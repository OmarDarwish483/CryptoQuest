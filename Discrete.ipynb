{
  "nbformat": 4,
  "nbformat_minor": 0,
  "metadata": {
    "colab": {
      "provenance": []
    },
    "kernelspec": {
      "name": "python3",
      "display_name": "Python 3"
    },
    "language_info": {
      "name": "python"
    }
  },
  "cells": [
    {
      "source": [
        "import random\n",
        "from sympy import isprime, mod_inverse, gcd\n",
        "\n",
        "def generate_prime(start=2, end=100):\n",
        "    while True:\n",
        "        num = random.randint(start, end)\n",
        "        if isprime(num):\n",
        "            return num\n",
        "\n",
        "def generate_keys():\n",
        "    p = generate_prime()\n",
        "    q = generate_prime()\n",
        "    while q == p:\n",
        "        q = generate_prime()\n",
        "\n",
        "    n = p * q\n",
        "    phi = (p - 1) * (q - 1)\n",
        "\n",
        "    e = 2\n",
        "    while gcd(e, phi) != 1:\n",
        "        e = random.randrange(2, phi)\n",
        "    d = mod_inverse(e, phi)\n",
        "\n",
        "    return ((e, n), (d, n))\n",
        "\n",
        "def encrypt(message, public_key):\n",
        "    e, n = public_key\n",
        "    encrypted = []\n",
        "    for char in message:\n",
        "        num = ord(char)\n",
        "        enc = pow(num, e, n)\n",
        "        encrypted.append(enc)\n",
        "    return encrypted\n",
        "\n",
        "def decrypt(ciphertext, private_key):\n",
        "    d, n = private_key\n",
        "    decrypted = ''\n",
        "    for num in ciphertext:\n",
        "        dec = pow(num, d, n)\n",
        "        char = chr(dec)\n",
        "        decrypted += char\n",
        "    return decrypted\n",
        "\n",
        "public, private = generate_keys()\n",
        "print(\"Public Key:\", public)\n",
        "print(\"Private Key:\", private)\n",
        "\n",
        "message = input(\"Enter your text: \")\n",
        "\n",
        "encrypted = encrypt(message, public)\n",
        "print(\"Encrypted:\", encrypted)\n",
        "\n",
        "decrypted = decrypt(encrypted, private)\n",
        "print(\"Decrypted:\", decrypted)\n"
      ],
      "cell_type": "code",
      "metadata": {
        "colab": {
          "base_uri": "https://localhost:8080/"
        },
        "id": "l160Hd5q4yYz",
        "outputId": "578a5ff5-ea59-407f-e760-fd879823a28f"
      },
      "execution_count": 1,
      "outputs": [
        {
          "output_type": "stream",
          "name": "stdout",
          "text": [
            "Public Key: (109, 187)\n",
            "Private Key: (69, 187)\n",
            "Enter your text: Hello\n",
            "Encrypted: [123, 50, 27, 27, 144]\n",
            "Decrypted: Hello\n"
          ]
        }
      ]
    }
  ]
}